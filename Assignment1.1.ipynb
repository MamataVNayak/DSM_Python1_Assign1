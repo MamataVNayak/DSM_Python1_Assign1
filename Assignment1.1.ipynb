{
 "cells": [
  {
   "cell_type": "code",
   "execution_count": 1,
   "metadata": {},
   "outputs": [
    {
     "data": {
      "text/plain": [
       "int"
      ]
     },
     "execution_count": 1,
     "metadata": {},
     "output_type": "execute_result"
    }
   ],
   "source": [
    "#integers\n",
    "x=1\n",
    "type(x)"
   ]
  },
  {
   "cell_type": "code",
   "execution_count": 2,
   "metadata": {},
   "outputs": [
    {
     "name": "stdout",
     "output_type": "stream",
     "text": [
      "i is less than 5\n"
     ]
    }
   ],
   "source": [
    "i=3\n",
    "if i<3 :\n",
    "    print(\"i is less than 3\")\n",
    "elif i<5 :\n",
    "    print(\"i is less than 5\")\n",
    "else:\n",
    "    print(\"i is 5 or more\")\n",
    "   "
   ]
  },
  {
   "cell_type": "code",
   "execution_count": 4,
   "metadata": {},
   "outputs": [],
   "source": [
    "#Since which program to be executed not mentioned, picked up the code from the snapshot in the Course Material Document and executed\n",
    "import numpy as np\n",
    "np.random.seed(0) #seed for reproducibility\n",
    "x1 = np.random.randint(10,size=6) #one-dimensional array\n",
    "x2 = np.random.randint(10,size=(3,4)) #two-dimensional array\n",
    "x3 = np.random.randint(10,size=(3,4,5)) #three dimensional array\n"
   ]
  },
  {
   "cell_type": "code",
   "execution_count": 5,
   "metadata": {
    "scrolled": true
   },
   "outputs": [
    {
     "name": "stdout",
     "output_type": "stream",
     "text": [
      "[5 0 3 3 7 9]\n",
      "[[3 5 2 4]\n",
      " [7 6 8 8]\n",
      " [1 6 7 7]]\n",
      "[[[8 1 5 9 8]\n",
      "  [9 4 3 0 3]\n",
      "  [5 0 2 3 8]\n",
      "  [1 3 3 3 7]]\n",
      "\n",
      " [[0 1 9 9 0]\n",
      "  [4 7 3 2 7]\n",
      "  [2 0 0 4 5]\n",
      "  [5 6 8 4 1]]\n",
      "\n",
      " [[4 9 8 1 1]\n",
      "  [7 9 9 3 6]\n",
      "  [7 2 0 3 5]\n",
      "  [9 4 4 6 4]]]\n"
     ]
    }
   ],
   "source": [
    "print (x1)\n",
    "print (x2)\n",
    "print (x3)\n"
   ]
  },
  {
   "cell_type": "code",
   "execution_count": null,
   "metadata": {},
   "outputs": [],
   "source": []
  }
 ],
 "metadata": {
  "kernelspec": {
   "display_name": "Python 3",
   "language": "python",
   "name": "python3"
  },
  "language_info": {
   "codemirror_mode": {
    "name": "ipython",
    "version": 3
   },
   "file_extension": ".py",
   "mimetype": "text/x-python",
   "name": "python",
   "nbconvert_exporter": "python",
   "pygments_lexer": "ipython3",
   "version": "3.6.4"
  },
  "widgets": {
   "application/vnd.jupyter.widget-state+json": {
    "state": {},
    "version_major": 2,
    "version_minor": 0
   }
  }
 },
 "nbformat": 4,
 "nbformat_minor": 2
}
